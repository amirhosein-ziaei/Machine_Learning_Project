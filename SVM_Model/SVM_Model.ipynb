{
  "cells": [
    {
      "cell_type": "code",
      "execution_count": null,
      "metadata": {
        "id": "C-xe3hTqvWkY"
      },
      "outputs": [],
      "source": [
        "import pandas as pd\n",
        "import numpy as np\n",
        "import matplotlib.pyplot as plt\n",
        "from sklearn import svm\n",
        "from sklearn.svm import SVC\n",
        "from sklearn.model_selection import train_test_split\n",
        "from sklearn.preprocessing import StandardScaler\n",
        "from sklearn.model_selection import GridSearchCV\n",
        "from sklearn.metrics import classification_report, confusion_matrix\n",
        "import itertools"
      ]
    },
    {
      "cell_type": "code",
      "source": [
        "Data_set = pd.read_csv(\"/content/data set.csv\")"
      ],
      "metadata": {
        "id": "cCiacDafuDO_"
      },
      "execution_count": null,
      "outputs": []
    },
    {
      "cell_type": "code",
      "execution_count": null,
      "metadata": {
        "id": "VD0ocamK0_qa"
      },
      "outputs": [],
      "source": [
        "Input = pd.DataFrame(Data_set, columns=[\" Mean of the integrated profile\", \" Standard deviation of the integrated profile\", \" Excess kurtosis of the integrated profile\", \" Skewness of the integrated profile\", \" Mean of the DM-SNR curve\", \" Standard deviation of the DM-SNR curve\", \" Excess kurtosis of the DM-SNR curve\", \" Skewness of the DM-SNR curve\"])\n",
        "output = pd.DataFrame(Data_set, columns=[\"target_class\"])\n",
        "INPUT_1 = np.asarray(Input[[\" Mean of the integrated profile\", \" Standard deviation of the integrated profile\", \" Excess kurtosis of the integrated profile\", \" Skewness of the integrated profile\", \" Mean of the DM-SNR curve\", \" Standard deviation of the DM-SNR curve\", \" Excess kurtosis of the DM-SNR curve\", \" Skewness of the DM-SNR curve\"]])\n",
        "scaler = StandardScaler()\n",
        "INPUT_1 = scaler.fit_transform(INPUT_1)\n",
        "output_1 = np.asarray(output[\"target_class\"])"
      ]
    },
    {
      "cell_type": "code",
      "source": [
        "training_data, testing_data, training_labels, testing_labels = train_test_split(INPUT_1,output_1)  "
      ],
      "metadata": {
        "id": "vhK6DT0guFn_"
      },
      "execution_count": null,
      "outputs": []
    },
    {
      "cell_type": "code",
      "execution_count": null,
      "metadata": {
        "colab": {
          "base_uri": "https://localhost:8080/"
        },
        "id": "T6dYw8pg1EJL",
        "outputId": "964b893f-43b5-4294-8160-d36526f17918"
      },
      "outputs": [
        {
          "name": "stdout",
          "output_type": "stream",
          "text": [
            "accuracy = 0.9801117318435755\n"
          ]
        }
      ],
      "source": [
        "Classifier_SVM = SVC(kernel=\"linear\", C=10)\n",
        "Classifier = Classifier_SVM.fit(training_data, training_labels)\n",
        "print(\"accuracy =\",Classifier.score(testing_data,testing_labels))"
      ]
    },
    {
      "cell_type": "code",
      "execution_count": null,
      "metadata": {
        "colab": {
          "base_uri": "https://localhost:8080/"
        },
        "id": "g3gzcB6r1LQO",
        "outputId": "ac00db14-42cf-4c55-a67f-a801595fbf91"
      },
      "outputs": [
        {
          "name": "stdout",
          "output_type": "stream",
          "text": [
            "accuracy = 0.9796648044692737\n"
          ]
        }
      ],
      "source": [
        "Classifier_SVM = SVC(kernel=\"linear\", C=100)\n",
        "Classifier = Classifier_SVM.fit(training_data, training_labels)\n",
        "print(\"accuracy =\",Classifier.score(testing_data,testing_labels))"
      ]
    },
    {
      "cell_type": "code",
      "execution_count": null,
      "metadata": {
        "colab": {
          "base_uri": "https://localhost:8080/"
        },
        "id": "hBXL2V7Q1LjZ",
        "outputId": "b3757f00-ee2a-4aab-b1c5-efb5d57e7fa5"
      },
      "outputs": [
        {
          "name": "stdout",
          "output_type": "stream",
          "text": [
            "accuracy = 0.9796648044692737\n"
          ]
        }
      ],
      "source": [
        "Classifier_SVM = SVC(kernel=\"linear\", C=500)\n",
        "Classifier = Classifier_SVM.fit(training_data, training_labels)\n",
        "print(\"accuracy =\",Classifier.score(testing_data,testing_labels))"
      ]
    },
    {
      "cell_type": "code",
      "execution_count": null,
      "metadata": {
        "colab": {
          "base_uri": "https://localhost:8080/"
        },
        "id": "EGF9gnz21Lqb",
        "outputId": "c3261b3c-1f4b-4797-83e2-9318b95129d9"
      },
      "outputs": [
        {
          "name": "stdout",
          "output_type": "stream",
          "text": [
            "accuracy = 0.977877094972067\n"
          ]
        }
      ],
      "source": [
        "Classifier_SVM = SVC(kernel=\"rbf\", C=10)\n",
        "Classifier = Classifier_SVM.fit(training_data, training_labels)\n",
        "print(\"accuracy =\",Classifier.score(testing_data,testing_labels))"
      ]
    },
    {
      "cell_type": "code",
      "execution_count": null,
      "metadata": {
        "colab": {
          "base_uri": "https://localhost:8080/"
        },
        "id": "pjK4jAxM1QRE",
        "outputId": "2d840839-21e2-410a-b3df-c2951b6a9b3d"
      },
      "outputs": [
        {
          "name": "stdout",
          "output_type": "stream",
          "text": [
            "accuracy = 0.9789944134078212\n"
          ]
        }
      ],
      "source": [
        "Classifier_SVM = SVC(kernel=\"rbf\", C=100)\n",
        "Classifier = Classifier_SVM.fit(training_data, training_labels)\n",
        "print(\"accuracy =\",Classifier.score(testing_data,testing_labels))"
      ]
    },
    {
      "cell_type": "code",
      "execution_count": null,
      "metadata": {
        "colab": {
          "base_uri": "https://localhost:8080/"
        },
        "id": "C0ZkFdM51Qhb",
        "outputId": "6367641b-41f9-4f9f-a3f7-5755066c10f4"
      },
      "outputs": [
        {
          "name": "stdout",
          "output_type": "stream",
          "text": [
            "accuracy = 0.9789944134078212\n"
          ]
        }
      ],
      "source": [
        "Classifier_SVM = SVC(kernel=\"rbf\", C=500)\n",
        "Classifier = Classifier_SVM.fit(training_data, training_labels)\n",
        "print(\"accuracy =\",Classifier.score(testing_data,testing_labels))"
      ]
    },
    {
      "cell_type": "code",
      "execution_count": null,
      "metadata": {
        "colab": {
          "base_uri": "https://localhost:8080/"
        },
        "id": "HcscgKpN1Qll",
        "outputId": "ba4ed753-b30e-49fc-91cf-700ffe8aaaa4"
      },
      "outputs": [
        {
          "name": "stdout",
          "output_type": "stream",
          "text": [
            "accuracy = 0.9754189944134078\n"
          ]
        }
      ],
      "source": [
        "Classifier_SVM = SVC(kernel=\"poly\", C=10)\n",
        "Classifier = Classifier_SVM.fit(training_data, training_labels)\n",
        "print(\"accuracy =\",Classifier.score(testing_data,testing_labels))"
      ]
    },
    {
      "cell_type": "code",
      "execution_count": null,
      "metadata": {
        "colab": {
          "base_uri": "https://localhost:8080/"
        },
        "id": "r8eQYaGb1Qqt",
        "outputId": "5ead5387-ffd0-4d44-da57-af47a7f2a799"
      },
      "outputs": [
        {
          "name": "stdout",
          "output_type": "stream",
          "text": [
            "accuracy = 0.9767597765363129\n"
          ]
        }
      ],
      "source": [
        "Classifier_SVM = SVC(kernel=\"poly\", C=100)\n",
        "Classifier = Classifier_SVM.fit(training_data, training_labels)\n",
        "print(\"accuracy =\",Classifier.score(testing_data,testing_labels))"
      ]
    },
    {
      "cell_type": "code",
      "execution_count": null,
      "metadata": {
        "colab": {
          "base_uri": "https://localhost:8080/"
        },
        "id": "_HgZvfv39LS_",
        "outputId": "b7295756-4e60-4027-a3aa-ccab4ba771d6"
      },
      "outputs": [
        {
          "name": "stdout",
          "output_type": "stream",
          "text": [
            "accuracy = 0.9776536312849162\n"
          ]
        }
      ],
      "source": [
        "Classifier_SVM = SVC(kernel=\"poly\", C=500)\n",
        "Classifier = Classifier_SVM.fit(training_data, training_labels)\n",
        "print(\"accuracy =\",Classifier.score(testing_data,testing_labels))"
      ]
    },
    {
      "cell_type": "code",
      "execution_count": null,
      "metadata": {
        "colab": {
          "base_uri": "https://localhost:8080/"
        },
        "id": "YOvbtEQP1VHw",
        "outputId": "a706b20a-d2e7-4ac8-b8b0-e2409a07e402"
      },
      "outputs": [
        {
          "name": "stdout",
          "output_type": "stream",
          "text": [
            "accuracy = 0.862122905027933\n"
          ]
        }
      ],
      "source": [
        "Classifier_SVM = SVC(kernel=\"sigmoid\", C=10)\n",
        "Classifier = Classifier_SVM.fit(training_data, training_labels)\n",
        "print(\"accuracy =\",Classifier.score(testing_data,testing_labels))"
      ]
    },
    {
      "cell_type": "code",
      "execution_count": null,
      "metadata": {
        "colab": {
          "base_uri": "https://localhost:8080/"
        },
        "id": "KTD6cZzD1VKf",
        "outputId": "acfef425-0475-4191-ffce-ba84d5cb079e"
      },
      "outputs": [
        {
          "name": "stdout",
          "output_type": "stream",
          "text": [
            "accuracy = 0.8618994413407821\n"
          ]
        }
      ],
      "source": [
        "Classifier_SVM = SVC(kernel=\"sigmoid\", C=100)\n",
        "Classifier = Classifier_SVM.fit(training_data, training_labels)\n",
        "print(\"accuracy =\",Classifier.score(testing_data,testing_labels))"
      ]
    },
    {
      "cell_type": "code",
      "execution_count": null,
      "metadata": {
        "colab": {
          "base_uri": "https://localhost:8080/"
        },
        "id": "ANDjejl089Rl",
        "outputId": "8fb84af3-faad-471d-c4b7-bc2260c7a41f"
      },
      "outputs": [
        {
          "name": "stdout",
          "output_type": "stream",
          "text": [
            "accuracy = 0.8618994413407821\n"
          ]
        }
      ],
      "source": [
        "Classifier_SVM = SVC(kernel=\"sigmoid\", C=500)\n",
        "Classifier = Classifier_SVM.fit(training_data, training_labels)\n",
        "print(\"accuracy =\",Classifier.score(testing_data,testing_labels))"
      ]
    },
    {
      "cell_type": "code",
      "execution_count": null,
      "metadata": {
        "colab": {
          "base_uri": "https://localhost:8080/"
        },
        "id": "LrQMnqfo1qIi",
        "outputId": "7dc55bc1-f360-4878-8b43-779015d30452"
      },
      "outputs": [
        {
          "name": "stdout",
          "output_type": "stream",
          "text": [
            "SVC(C=10, gamma=0.9, kernel='linear')\n",
            "0.9788424680914837\n"
          ]
        }
      ],
      "source": [
        "Hyper_Parameters = {'kernel': ['linear'], 'C':[1, 10, 100, 500], 'gamma': [0.9, 0.8 ,0.6 ,0.4 ,0.2 ,0.1]}\n",
        "svc = svm.SVC()\n",
        "Classifier = GridSearchCV(svc, Hyper_Parameters)\n",
        "Classifier = Classifier.fit(training_data, training_labels)\n",
        "sorted(Classifier.cv_results_.keys())\n",
        "print(Classifier.best_estimator_)\n",
        "print(Classifier.best_score_)"
      ]
    },
    {
      "cell_type": "code",
      "execution_count": null,
      "metadata": {
        "colab": {
          "base_uri": "https://localhost:8080/"
        },
        "id": "-gIFoiK71r5G",
        "outputId": "cd0fbb83-65ca-4742-b77e-07718a2b69e6"
      },
      "outputs": [
        {
          "name": "stdout",
          "output_type": "stream",
          "text": [
            "SVC(C=10)\n",
            "0.9808539743066713\n"
          ]
        }
      ],
      "source": [
        "Hyper_Parameters = {'kernel': ['rbf'],'C':[1, 10, 100]}\n",
        "svc = svm.SVC()\n",
        "Classifier = GridSearchCV(svc, Hyper_Parameters)\n",
        "Classifier = Classifier.fit(training_data, training_labels)\n",
        "sorted(Classifier.cv_results_.keys())\n",
        "print(Classifier.best_estimator_)\n",
        "print(Classifier.best_score_)\n"
      ]
    },
    {
      "cell_type": "code",
      "execution_count": null,
      "metadata": {
        "colab": {
          "base_uri": "https://localhost:8080/"
        },
        "id": "ScZFIo6z1tRm",
        "outputId": "dd1dcc20-c9d4-4573-e9ba-8964f0a7a5b6"
      },
      "outputs": [
        {
          "name": "stdout",
          "output_type": "stream",
          "text": [
            "SVC(C=500, gamma=0.05, kernel='poly')\n",
            "0.9788425513491912\n"
          ]
        }
      ],
      "source": [
        "Hyper_Parameters = {'kernel': ['poly'], 'degree': [2, 3, 4], 'C':[1, 10, 100, 500], 'gamma':[0.01, 0.02, 0.04 , 0.06]}\n",
        "svc = svm.SVC()\n",
        "Classifier = GridSearchCV(svc, Hyper_Parameters)\n",
        "Classifier = Classifier.fit(training_data, training_labels)\n",
        "sorted(Classifier.cv_results_.keys())\n",
        "print(Classifier.best_estimator_)\n",
        "print(Classifier.best_score_)\n"
      ]
    },
    {
      "cell_type": "code",
      "execution_count": null,
      "metadata": {
        "id": "U6SI89Gd10vt"
      },
      "outputs": [],
      "source": [
        "def Confusion_Matrix(cm, classes, normalize=False, title='CONFUSION MATRIX', cmap=plt.cm.Blues):\n",
        "    print(cm)\n",
        "    plt.imshow(cm, interpolation='nearest', cmap=cmap)\n",
        "    plt.title(title)\n",
        "    plt.colorbar()\n",
        "    tick_marks = np.arange(len(classes))\n",
        "    plt.xticks(tick_marks, classes, rotation=45)\n",
        "    plt.yticks(tick_marks, classes)\n",
        "    fmt = 'd'\n",
        "    thresh = cm.max() / 2.\n",
        "    for i, j in itertools.product(range(cm.shape[0]), range(cm.shape[1])):\n",
        "        plt.text(j,\n",
        "                 i,\n",
        "                 format(cm[i, j], fmt),\n",
        "                 horizontalalignment=\"center\",\n",
        "                 color=\"white\" if cm[i, j] > thresh else \"black\")\n",
        "\n",
        "    plt.tight_layout()\n",
        "    plt.ylabel('True label')\n",
        "    plt.xlabel('Predicted label')"
      ]
    },
    {
      "cell_type": "code",
      "execution_count": null,
      "metadata": {
        "id": "v3jC4RKU16Wp"
      },
      "outputs": [],
      "source": [
        "Classifier_SVM = SVC(kernel=\"linear\", C=1)\n",
        "Classifier = Classifier_SVM.fit(training_data, training_labels)\n",
        "Y_Hat = Classifier.predict(testing_data)\n",
        "Matrix = confusion_matrix(testing_labels, Y_Hat)\n",
        "plt.figure()\n",
        "Confusion_Matrix(Matrix,\n",
        "                      classes=['0', '1'],\n",
        "                      normalize=False,\n",
        "                      title='Confusion matrix')\n"
      ]
    },
    {
      "cell_type": "code",
      "execution_count": null,
      "metadata": {
        "id": "6PVG5wPS16-P"
      },
      "outputs": [],
      "source": [
        "Classifier_SVM = SVC(kernel=\"rbf\", C=10)\n",
        "Classifier = Classifier_SVM.fit(training_data, training_labels)\n",
        "Y_Hat = Classifier.predict(testing_data)\n",
        "Matrix = confusion_matrix(testing_labels, Y_Hat)\n",
        "plt.figure()\n",
        "Confusion_Matrix(Matrix,\n",
        "                      classes=['0', '1'],\n",
        "                      normalize=False,\n",
        "                      title='Confusion matrix')"
      ]
    }
  ],
  "metadata": {
    "accelerator": "GPU",
    "colab": {
      "provenance": []
    },
    "gpuClass": "standard",
    "kernelspec": {
      "display_name": "Python 3",
      "name": "python3"
    }
  },
  "nbformat": 4,
  "nbformat_minor": 0
}