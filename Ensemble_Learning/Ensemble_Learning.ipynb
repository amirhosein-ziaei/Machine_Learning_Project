{
  "cells": [
    {
      "cell_type": "code",
      "execution_count": 1,
      "metadata": {
        "id": "gaaz-GxSsgYN"
      },
      "outputs": [],
      "source": [
        "import pandas as pd\n",
        "import numpy as np\n",
        "from statistics import mean\n",
        "from sklearn.svm import SVC\n",
        "from sklearn.model_selection import KFold\n",
        "from sklearn.model_selection import cross_val_score\n",
        "from sklearn.ensemble import VotingClassifier\n",
        "from sklearn.ensemble import RandomForestClassifier\n",
        "from sklearn.linear_model import LogisticRegression"
      ]
    },
    {
      "cell_type": "code",
      "execution_count": null,
      "metadata": {
        "id": "WxFZQl3ZsgYP"
      },
      "outputs": [],
      "source": [
        "Data_set = pd.read_csv(\"/content/cancer.csv\")\n",
        "Data_set"
      ]
    },
    {
      "cell_type": "code",
      "source": [
        "Data_set.info()"
      ],
      "metadata": {
        "id": "PLbwh0H6tnke"
      },
      "execution_count": null,
      "outputs": []
    },
    {
      "cell_type": "code",
      "source": [
        "Input = Data_set[\"Bare Nuclei\"]\n",
        "Input.drop(Input.index[Input == '?'], inplace=True)\n",
        "Input = Input.values.tolist()\n",
        "for i in range (len(Input)):\n",
        "    Input[i] = int(Input[i])\n",
        "Input = mean(Input)\n",
        "Data_set[\"Bare Nuclei\"].replace({\"?\": Input}, inplace=True)\n",
        "Data_set = Data_set.astype(int)"
      ],
      "metadata": {
        "id": "Dv18fL_KtbnQ"
      },
      "execution_count": 4,
      "outputs": []
    },
    {
      "cell_type": "code",
      "execution_count": 6,
      "metadata": {
        "id": "1QBIH_SosgYQ"
      },
      "outputs": [],
      "source": [
        "Input_1 = pd.DataFrame(Data_set, columns=[\"Clump Thickness\",\"Uniformity of Cell Size\",\"Uniformity of Cell Shape\",\"Marginal Adhesion\",\"Single Epithelial Cell Size\",\"Bare Nuclei\",\"Bland Chromatin\",\"Normal Nucleoli\",\"Mitoses\"])\n",
        "Output_1 = pd.DataFrame(Data_set, columns=[\"Class\"])\n",
        "Tmp_Output = np.asarray(Output_1[\"Class\"])\n",
        "K_Fold = KFold(n_splits=10)"
      ]
    },
    {
      "cell_type": "code",
      "execution_count": 8,
      "metadata": {
        "colab": {
          "base_uri": "https://localhost:8080/"
        },
        "id": "Ln51JDsHsgYR",
        "outputId": "a969bfb9-99aa-4a11-cfec-d272079c1e41"
      },
      "outputs": [
        {
          "output_type": "stream",
          "name": "stdout",
          "text": [
            "Avg accuracy: 0.9671221532091098\n"
          ]
        }
      ],
      "source": [
        "Calssifier_Logistic = LogisticRegression(solver=\"lbfgs\", random_state=40)\n",
        "Classifier_Random_Forest = RandomForestClassifier(n_estimators=80, random_state=40)\n",
        "Classifier_SVM = SVC(gamma=\"scale\", random_state=40)\n",
        "Classifier_Voting = VotingClassifier(estimators=[('Calssifier_Logistic', Calssifier_Logistic), ('Classifier_Random_Forest', Classifier_Random_Forest), ('Classifier_SVM', Classifier_SVM)])\n",
        "result = cross_val_score(Classifier_Voting , Input_1, Tmp_Output, cv = K_Fold)\n",
        "print(\"Avg accuracy: {}\".format(result.mean()))"
      ]
    }
  ],
  "metadata": {
    "interpreter": {
      "hash": "eeab3e71adb6dbd0e75fb9a8c9bdb5e7c4aba7cf3fd60c4dcf30c1777b01516d"
    },
    "kernelspec": {
      "display_name": "Python 3",
      "language": "python",
      "name": "python3"
    },
    "language_info": {
      "codemirror_mode": {
        "name": "ipython",
        "version": 3
      },
      "file_extension": ".py",
      "mimetype": "text/x-python",
      "name": "python",
      "nbconvert_exporter": "python",
      "pygments_lexer": "ipython3",
      "version": "3.8.5"
    },
    "colab": {
      "provenance": []
    },
    "accelerator": "GPU",
    "gpuClass": "standard"
  },
  "nbformat": 4,
  "nbformat_minor": 0
}